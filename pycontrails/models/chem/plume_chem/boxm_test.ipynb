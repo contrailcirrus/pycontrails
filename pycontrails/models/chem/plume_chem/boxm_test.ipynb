{
 "cells": [
  {
   "cell_type": "code",
   "execution_count": 1,
   "metadata": {},
   "outputs": [],
   "source": [
    "import numpy as np\n",
    "import pandas as pd\n",
    "import xarray as xr\n",
    "import datetime\n",
    "from pycontrails.datalib.ecmwf import ERA5\n",
    "from pycontrails.models.emissions import Emissions\n",
    "from pycontrails.core.met import MetDataArray, MetDataset\n",
    "from pycontrails.core.met_var import (\n",
    "    AirTemperature,\n",
    "    SpecificHumidity,\n",
    ")\n",
    "from boxm import BoxModel"
   ]
  },
  {
   "cell_type": "code",
   "execution_count": 2,
   "metadata": {},
   "outputs": [],
   "source": [
    "# PHOTOLYSIS PARAMETERS IN FORMAT J = L*COSX**M*EXP(-N*SECX)\n",
    "consts = pd.read_pickle('J.pkl')\n",
    "    \n",
    "# Extract the constants\n",
    "photol_idx, L, M, N = np.array(consts).T"
   ]
  },
  {
   "cell_type": "code",
   "execution_count": 3,
   "metadata": {},
   "outputs": [],
   "source": [
    "# Initialise coord arrays\n",
    "longitude = np.arange(-180, 180, 10)\n",
    "latitude = np.arange(-90, 90, 10)\n",
    "level = np.array([1013, 912, 810, 709, 607, 505, 404, 302, 201, 100])\n",
    "time = [datetime.datetime(2000, 6, 1, h, 0) for h in range(0, 10)] # always GMT!\n",
    "photol_params = photol_idx\n",
    "photol_coeffs = np.arange(1, 96 + 1) # from Fortran indexing (1 to 96)\n",
    "therm_coeffs = np.arange(1, 510 + 1) # from Fortran indexing (1 to 510)\n",
    "species = [ 'O1D', 'O', 'OH', 'NO2', 'NO3', 'O3', 'N2O5', 'NO', 'HO2', 'H2', 'CO', \n",
    "           'H2O2', 'HONO', 'HNO3', 'HO2NO2', 'SO2', 'SO3', 'HSO3', 'NA', 'SA', \n",
    "           'CH4', 'CH3O2', 'C2H6', 'C2H5O2', 'C3H8', 'IC3H7O2', 'RN10O2', 'NC4H10', \n",
    "           'RN13O2', 'C2H4', 'HOCH2CH2O2', 'C3H6', 'RN9O2', 'TBUT2ENE', 'RN12O2', \n",
    "           'NRN6O2', 'NRN9O2', 'NRN12O2', 'HCHO', 'HCOOH', 'CH3CO2H', 'CH3CHO', \n",
    "           'C5H8', 'RU14O2', 'NRU14O2', 'UCARB10', 'APINENE', 'RTN28O2', 'NRTN28O2', \n",
    "           'RTN26O2', 'TNCARB26', 'RCOOH25', 'BPINENE', 'RTX28O2', 'NRTX28O2', \n",
    "           'RTX24O2', 'TXCARB24', 'TXCARB22', 'C2H2', 'CARB3', 'BENZENE', 'RA13O2', \n",
    "           'AROH14', 'TOLUENE', 'RA16O2', 'AROH17', 'OXYL', 'RA19AO2', 'RA19CO2', \n",
    "           'CH3CO3', 'C2H5CHO', 'C2H5CO3', 'CH3COCH3', 'RN8O2', 'RN11O2', 'CH3OH', \n",
    "           'C2H5OH', 'NPROPOL', 'IPROPOL', 'CH3CL', 'CH2CL2', 'CHCL3', 'CH3CCL3', \n",
    "           'TCE', 'TRICLETH', 'CDICLETH', 'TDICLETH', 'CARB11A', 'RN16O2', 'RN15AO2', \n",
    "           'RN19O2', 'RN18AO2', 'RN13AO2', 'RN16AO2', 'RN15O2', 'UDCARB8', 'UDCARB11', \n",
    "           'CARB6', 'UDCARB14', 'CARB9', 'MEK', 'HOCH2CHO', 'RN18O2', 'CARB13', \n",
    "           'CARB16', 'HOCH2CO3', 'RN14O2', 'RN17O2', 'UCARB12', 'RU12O2', 'CARB7', \n",
    "           'RU10O2', 'NUCARB12', 'NRU12O2', 'NOA', 'RTN25O2', 'RTN24O2', 'RTN23O2', \n",
    "           'RTN14O2', 'TNCARB10', 'RTN10O2', 'RTX22O2', 'CH3NO3', 'C2H5NO3', 'RN10NO3', \n",
    "           'IC3H7NO3', 'RN13NO3', 'RN16NO3', 'RN19NO3', 'HOC2H4NO3', 'RN9NO3', 'RN12NO3', \n",
    "           'RN15NO3', 'RN18NO3', 'RU14NO3', 'RA13NO3', 'RA16NO3', 'RA19NO3', 'RTN28NO3', \n",
    "           'RTN25NO3', 'RTX28NO3', 'RTX24NO3', 'RTX22NO3', 'CH3OOH', 'C2H5OOH', 'RN10OOH', \n",
    "           'IC3H7OOH', 'RN13OOH', 'RN16OOH', 'RN19OOH', 'RA13OOH', 'RA16OOH', 'RA19OOH', \n",
    "           'HOC2H4OOH', 'RN9OOH', 'RN12OOH', 'RN15OOH', 'RN18OOH', 'CH3CO3H', 'C2H5CO3H', \n",
    "           'HOCH2CO3H', 'RN8OOH', 'RN11OOH', 'RN14OOH', 'RN17OOH', 'RU14OOH', 'RU12OOH', \n",
    "           'RU10OOH', 'NRN6OOH', 'NRN9OOH', 'NRN12OOH', 'NRU14OOH', 'NRU12OOH', 'RTN28OOH', \n",
    "           'NRTN28OOH', 'RTN26OOH', 'RTN25OOH', 'RTN24OOH', 'RTN23OOH', 'RTN14OOH', \n",
    "           'RTN10OOH', 'RTX28OOH', 'RTX24OOH', 'RTX22OOH', 'NRTX28OOH', 'CARB14', 'CARB17', \n",
    "           'CARB10', 'CARB12', 'CARB15', 'CCARB12', 'ANHY', 'TNCARB15', 'RAROH14', 'ARNOH14', \n",
    "           'RAROH17', 'ARNOH17', 'PAN', 'PPN', 'PHAN', 'RU12PAN', 'MPAN', 'RTN26PAN', 'P2604', \n",
    "           'P4608', 'P2631', 'P2635', 'P4610', 'P2605', 'P2630', 'P2629', 'P2632', 'P2637', \n",
    "           'P3612', 'P3613', 'P3442', 'CH3O2NO2', 'EMPOA', 'P2007']"
   ]
  },
  {
   "cell_type": "code",
   "execution_count": 4,
   "metadata": {},
   "outputs": [],
   "source": [
    "# Import met data from ERA5\n",
    "era5 = ERA5(\n",
    "        time=(time[0], time[-1]),\n",
    "        variables=[\n",
    "                \"t\",\n",
    "                \"q\",\n",
    "                \"u\",\n",
    "                \"v\",\n",
    "                \"w\",\n",
    "                \"z\",\n",
    "                \"relative_humidity\"\n",
    "        ],\n",
    "        pressure_levels=[1000, 925, 800, 700, 600, 500, 400, 300, 200, 100] \n",
    ")"
   ]
  },
  {
   "cell_type": "code",
   "execution_count": 5,
   "metadata": {},
   "outputs": [],
   "source": [
    "# download data from ERA5 (or open from cache)\n",
    "met = era5.open_metdataset()"
   ]
  },
  {
   "cell_type": "code",
   "execution_count": 6,
   "metadata": {},
   "outputs": [],
   "source": [
    "# initialise example chem MetDataset\n",
    "chem = xr.Dataset(\n",
    "    {\n",
    "        \n",
    "        \"local_time\": ([\"latitude\", \"longitude\", \"time\"],\n",
    "                np.zeros((len(latitude), len(longitude), len(time)))),\n",
    "        \"sza\": ([\"latitude\", \"longitude\", \"time\"], \n",
    "                np.zeros((len(latitude), len(longitude), len(time)))),\n",
    "        \"J\": ([\"latitude\", \"longitude\", \"time\", \"photol_params\"], \n",
    "                np.zeros((len(latitude), len(longitude), len(time), len(photol_params)))),\n",
    "        \"DJ\": ([\"latitude\", \"longitude\", \"level\", \"time\", \"photol_coeffs\"], \n",
    "                np.zeros((len(latitude), len(longitude), len(level), len(time), len(photol_coeffs)))),\n",
    "        \"RC\": ([\"latitude\", \"longitude\", \"level\", \"time\", \"therm_coeffs\"],\n",
    "                np.zeros((len(latitude), len(longitude), len(level), len(time), len(therm_coeffs)))),\n",
    "        \"soa\": ([\"latitude\", \"longitude\", \"level\", \"time\"],\n",
    "                np.zeros((len(latitude), len(longitude), len(level), len(time)))),\n",
    "        \"mom\": ([\"latitude\", \"longitude\", \"level\", \"time\"],\n",
    "                np.zeros((len(latitude), len(longitude), len(level), len(time)))),\n",
    "        \"Y\": ([\"latitude\", \"longitude\", \"level\", \"time\", \"species\"], \n",
    "                np.zeros((len(latitude), len(longitude), len(level), len(time), len(species)))),\n",
    "        \"EM\": ([\"latitude\", \"longitude\", \"level\", \"time\", \"species\"],\n",
    "                np.zeros((len(latitude), len(longitude), len(level), len(time), len(species)))),\n",
    "        \"FL\": ([\"latitude\", \"longitude\", \"level\", \"time\", \"species\"],\n",
    "                np.zeros((len(latitude), len(longitude), len(level), len(time), len(species)))),\n",
    "\n",
    "    },\n",
    "    coords={\n",
    "        \"latitude\": latitude,\n",
    "        \"longitude\": longitude, \n",
    "        \"level\": level,\n",
    "        \"time\": time,\n",
    "        \"photol_params\": photol_params,\n",
    "        \"photol_coeffs\": photol_coeffs,\n",
    "        \"therm_coeffs\": therm_coeffs,\n",
    "        \"species\": species,\n",
    "    }\n",
    ")\n",
    " \n",
    "chem = MetDataset(chem)"
   ]
  },
  {
   "cell_type": "code",
   "execution_count": 7,
   "metadata": {},
   "outputs": [
    {
     "ename": "ValueError",
     "evalue": "could not broadcast input array from shape (36,72) into shape (36,18)",
     "output_type": "error",
     "traceback": [
      "\u001b[0;31m---------------------------------------------------------------------------\u001b[0m",
      "\u001b[0;31mValueError\u001b[0m                                Traceback (most recent call last)",
      "Cell \u001b[0;32mIn[7], line 2\u001b[0m\n\u001b[1;32m      1\u001b[0m \u001b[39mfor\u001b[39;00m s \u001b[39min\u001b[39;00m species:\n\u001b[0;32m----> 2\u001b[0m     chem[\u001b[39m\"\u001b[39;49m\u001b[39mY\u001b[39;49m\u001b[39m\"\u001b[39;49m]\u001b[39m.\u001b[39;49mdata\u001b[39m.\u001b[39;49mloc[:, :, \u001b[39m201\u001b[39;49m, time[\u001b[39m0\u001b[39;49m], s] \u001b[39m=\u001b[39m np\u001b[39m.\u001b[39mloadtxt(\u001b[39m\"\u001b[39m\u001b[39mspecies/\u001b[39m\u001b[39m\"\u001b[39m \u001b[39m+\u001b[39m s \u001b[39m+\u001b[39m \u001b[39m\"\u001b[39m\u001b[39m_MONTH_1_LEVEL_8.csv\u001b[39m\u001b[39m\"\u001b[39m,\n\u001b[1;32m      3\u001b[0m                                                            delimiter\u001b[39m=\u001b[39m\u001b[39m\"\u001b[39m\u001b[39m,\u001b[39m\u001b[39m\"\u001b[39m)\n",
      "File \u001b[0;32m~/miniconda3/envs/traffic/lib/python3.10/site-packages/xarray/core/dataarray.py:222\u001b[0m, in \u001b[0;36m_LocIndexer.__setitem__\u001b[0;34m(self, key, value)\u001b[0m\n\u001b[1;32m    219\u001b[0m     key \u001b[39m=\u001b[39m \u001b[39mdict\u001b[39m(\u001b[39mzip\u001b[39m(\u001b[39mself\u001b[39m\u001b[39m.\u001b[39mdata_array\u001b[39m.\u001b[39mdims, labels))\n\u001b[1;32m    221\u001b[0m dim_indexers \u001b[39m=\u001b[39m map_index_queries(\u001b[39mself\u001b[39m\u001b[39m.\u001b[39mdata_array, key)\u001b[39m.\u001b[39mdim_indexers\n\u001b[0;32m--> 222\u001b[0m \u001b[39mself\u001b[39;49m\u001b[39m.\u001b[39;49mdata_array[dim_indexers] \u001b[39m=\u001b[39m value\n",
      "File \u001b[0;32m~/miniconda3/envs/traffic/lib/python3.10/site-packages/xarray/core/dataarray.py:839\u001b[0m, in \u001b[0;36mDataArray.__setitem__\u001b[0;34m(self, key, value)\u001b[0m\n\u001b[1;32m    834\u001b[0m \u001b[39m# DataArray key -> Variable key\u001b[39;00m\n\u001b[1;32m    835\u001b[0m key \u001b[39m=\u001b[39m {\n\u001b[1;32m    836\u001b[0m     k: v\u001b[39m.\u001b[39mvariable \u001b[39mif\u001b[39;00m \u001b[39misinstance\u001b[39m(v, DataArray) \u001b[39melse\u001b[39;00m v\n\u001b[1;32m    837\u001b[0m     \u001b[39mfor\u001b[39;00m k, v \u001b[39min\u001b[39;00m \u001b[39mself\u001b[39m\u001b[39m.\u001b[39m_item_key_to_dict(key)\u001b[39m.\u001b[39mitems()\n\u001b[1;32m    838\u001b[0m }\n\u001b[0;32m--> 839\u001b[0m \u001b[39mself\u001b[39;49m\u001b[39m.\u001b[39;49mvariable[key] \u001b[39m=\u001b[39m value\n",
      "File \u001b[0;32m~/miniconda3/envs/traffic/lib/python3.10/site-packages/xarray/core/variable.py:976\u001b[0m, in \u001b[0;36mVariable.__setitem__\u001b[0;34m(self, key, value)\u001b[0m\n\u001b[1;32m    973\u001b[0m     value \u001b[39m=\u001b[39m np\u001b[39m.\u001b[39mmoveaxis(value, new_order, \u001b[39mrange\u001b[39m(\u001b[39mlen\u001b[39m(new_order)))\n\u001b[1;32m    975\u001b[0m indexable \u001b[39m=\u001b[39m as_indexable(\u001b[39mself\u001b[39m\u001b[39m.\u001b[39m_data)\n\u001b[0;32m--> 976\u001b[0m indexable[index_tuple] \u001b[39m=\u001b[39m value\n",
      "File \u001b[0;32m~/miniconda3/envs/traffic/lib/python3.10/site-packages/xarray/core/indexing.py:1338\u001b[0m, in \u001b[0;36mNumpyIndexingAdapter.__setitem__\u001b[0;34m(self, key, value)\u001b[0m\n\u001b[1;32m   1336\u001b[0m array, key \u001b[39m=\u001b[39m \u001b[39mself\u001b[39m\u001b[39m.\u001b[39m_indexing_array_and_key(key)\n\u001b[1;32m   1337\u001b[0m \u001b[39mtry\u001b[39;00m:\n\u001b[0;32m-> 1338\u001b[0m     array[key] \u001b[39m=\u001b[39m value\n\u001b[1;32m   1339\u001b[0m \u001b[39mexcept\u001b[39;00m \u001b[39mValueError\u001b[39;00m:\n\u001b[1;32m   1340\u001b[0m     \u001b[39m# More informative exception if read-only view\u001b[39;00m\n\u001b[1;32m   1341\u001b[0m     \u001b[39mif\u001b[39;00m \u001b[39mnot\u001b[39;00m array\u001b[39m.\u001b[39mflags\u001b[39m.\u001b[39mwriteable \u001b[39mand\u001b[39;00m \u001b[39mnot\u001b[39;00m array\u001b[39m.\u001b[39mflags\u001b[39m.\u001b[39mowndata:\n",
      "\u001b[0;31mValueError\u001b[0m: could not broadcast input array from shape (36,72) into shape (36,18)"
     ]
    }
   ],
   "source": [
    "for s in species:\n",
    "    chem[\"Y\"].data.loc[:, :, 201, time[0], s] = np.loadtxt(\"species/\" + s + \"_MONTH_1_LEVEL_8.csv\",\n",
    "                                                           delimiter=\",\")"
   ]
  },
  {
   "cell_type": "code",
   "execution_count": null,
   "metadata": {},
   "outputs": [],
   "source": [
    "boxm = BoxModel(met, chem)"
   ]
  },
  {
   "cell_type": "code",
   "execution_count": null,
   "metadata": {},
   "outputs": [],
   "source": [
    "boxm.met"
   ]
  },
  {
   "cell_type": "code",
   "execution_count": null,
   "metadata": {},
   "outputs": [],
   "source": [
    "boxm.chem"
   ]
  },
  {
   "cell_type": "code",
   "execution_count": null,
   "metadata": {},
   "outputs": [],
   "source": [
    "emi = xr.Dataset(\n",
    "    {\n",
    "        \"EM\": ([\"latitude\", \"longitude\", \"level\", \"time\", \"species\"],\n",
    "                np.zeros((len(latitude), len(longitude), len(level), len(time), len(species)))),\n",
    "    },\n",
    "    coords={\n",
    "        \"latitude\": latitude,\n",
    "        \"longitude\": longitude, \n",
    "        \"level\": level,\n",
    "        \"time\": time,\n",
    "        \"species\": species,\n",
    "    }\n",
    ")"
   ]
  },
  {
   "cell_type": "code",
   "execution_count": null,
   "metadata": {},
   "outputs": [],
   "source": [
    "emi = MetDataset(emi)"
   ]
  },
  {
   "cell_type": "code",
   "execution_count": null,
   "metadata": {},
   "outputs": [],
   "source": [
    "emi"
   ]
  },
  {
   "cell_type": "code",
   "execution_count": null,
   "metadata": {},
   "outputs": [],
   "source": [
    "boxm.params"
   ]
  },
  {
   "cell_type": "code",
   "execution_count": null,
   "metadata": {},
   "outputs": [],
   "source": [
    "boxm.eval(source=emi)"
   ]
  },
  {
   "cell_type": "code",
   "execution_count": null,
   "metadata": {},
   "outputs": [],
   "source": []
  }
 ],
 "metadata": {
  "kernelspec": {
   "display_name": "traffic",
   "language": "python",
   "name": "python3"
  },
  "language_info": {
   "codemirror_mode": {
    "name": "ipython",
    "version": 3
   },
   "file_extension": ".py",
   "mimetype": "text/x-python",
   "name": "python",
   "nbconvert_exporter": "python",
   "pygments_lexer": "ipython3",
   "version": "3.10.11"
  },
  "orig_nbformat": 4
 },
 "nbformat": 4,
 "nbformat_minor": 2
}
