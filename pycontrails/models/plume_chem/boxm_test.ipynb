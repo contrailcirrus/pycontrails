{
 "cells": [
  {
   "cell_type": "code",
   "execution_count": null,
   "metadata": {},
   "outputs": [],
   "source": [
    "import numpy as np\n",
    "import pandas as pd\n",
    "import xarray as xr\n",
    "import datetime\n",
    "import cartopy.crs as ccrs\n",
    "from pycontrails.datalib.ecmwf import ERA5\n",
    "from pycontrails.models.emissions import Emissions\n",
    "\n",
    "from pycontrails.physics import units\n",
    "from pycontrails.core.met_var import (\n",
    "    AirTemperature,\n",
    "    SpecificHumidity,\n",
    ")\n",
    "from init_chem import CHEM\n",
    "from chem import ChemDataset\n",
    "from boxm import BoxModel"
   ]
  },
  {
   "cell_type": "code",
   "execution_count": null,
   "metadata": {},
   "outputs": [],
   "source": [
    "# Initialise coord arrays\n",
    "lon_bounds = (0, 5) #np.arange(-180, 180, 5)\n",
    "lat_bounds = (0, 5) #np.arange(-90, 90, 5)\n",
    "alt_bounds = (8000, 12000)\n",
    "horiz_res = 2.5\n",
    "vert_res = 500\n",
    "met_pressure_levels = np.array([400, 300, 200, 100])\n",
    "\n",
    "time = (\"2022-01-01 00:00:00\", \"2022-01-01 08:00:00\")\n",
    "ts_met = \"1H\"\n",
    "ts_disp = \"1min\"\n",
    "ts_chem = \"1H\"\n",
    "\n",
    "runtime = \"24H\"\n",
    "\n",
    "lons = [0]\n",
    "lats = [0]\n",
    "alts = [11000]\n",
    "\n",
    "# lons = np.arange(lon_bounds[0], lon_bounds[1], horiz_res)\n",
    "# lats = np.arange(lat_bounds[0], lat_bounds[1], horiz_res)\n",
    "# alts = np.arange(alt_bounds[0], alt_bounds[1], vert_res)"
   ]
  },
  {
   "cell_type": "code",
   "execution_count": null,
   "metadata": {},
   "outputs": [],
   "source": [
    "# Import met data from ERA5\n",
    "era5 = ERA5(\n",
    "        time=time,\n",
    "        timestep_freq=ts_met,\n",
    "        variables=[\n",
    "                \"t\",\n",
    "                \"q\",\n",
    "                \"u\",\n",
    "                \"v\",\n",
    "                \"w\",\n",
    "                \"z\",\n",
    "                \"relative_humidity\"\n",
    "        ],\n",
    "        pressure_levels=met_pressure_levels\n",
    ")"
   ]
  },
  {
   "cell_type": "code",
   "execution_count": null,
   "metadata": {},
   "outputs": [],
   "source": [
    "# download data from ERA5 (or open from cache)\n",
    "met = era5.open_metdataset()\n",
    "met.data = met.data.transpose(\"latitude\", \"longitude\", \"level\", \"time\", ...)\n",
    "met\n"
   ]
  },
  {
   "cell_type": "code",
   "execution_count": null,
   "metadata": {},
   "outputs": [],
   "source": [
    "# Initialise low-res chem xarray dataset, and import species files\n",
    "init_chem = CHEM(\n",
    "        time=time,\n",
    "        timestep_freq=ts_chem,\n",
    ")\n",
    "\n",
    "init_chem.timesteps"
   ]
  },
  {
   "cell_type": "code",
   "execution_count": null,
   "metadata": {},
   "outputs": [],
   "source": [
    "# Populate chem dataset with species data\n",
    "chem = init_chem.open_chemdataset()"
   ]
  },
  {
   "cell_type": "code",
   "execution_count": null,
   "metadata": {},
   "outputs": [],
   "source": [
    "met.data = met.data.interp(longitude=lons, latitude=lats, level=units.m_to_pl(alts), method=\"linear\")\n",
    "\n",
    "chem.data = chem.data.interp(longitude=lons, latitude=lats, level=units.m_to_pl(alts), method=\"linear\")"
   ]
  },
  {
   "cell_type": "code",
   "execution_count": null,
   "metadata": {},
   "outputs": [],
   "source": [
    "met"
   ]
  },
  {
   "cell_type": "code",
   "execution_count": null,
   "metadata": {},
   "outputs": [],
   "source": [
    "chem.zenith()\n",
    "chem.get_photol_params()"
   ]
  },
  {
   "cell_type": "code",
   "execution_count": null,
   "metadata": {},
   "outputs": [],
   "source": [
    "# p = chem[\"sza\"].data.sel(time=chem.data.time[0]).plot(\n",
    "#     subplot_kws=dict(projection=ccrs.Orthographic(20, 10), facecolor=\"gray\"),\n",
    "#     transform=ccrs.PlateCarree(),\n",
    "# )\n",
    "\n",
    "# p.axes.set_global()\n",
    "# p.axes.coastlines()\n"
   ]
  },
  {
   "cell_type": "code",
   "execution_count": null,
   "metadata": {},
   "outputs": [],
   "source": [
    "# chem_plot = chem.data[\"Y\"].sel(species=\"NO\", time=time[0], level=chem.data.level[0]).plot(\n",
    "#     subplot_kws=dict(projection=ccrs.Orthographic(-50, 10), facecolor=\"gray\"),\n",
    "#     transform=ccrs.PlateCarree(),\n",
    "# )\n",
    "\n",
    "# chem_plot.axes.set_global()\n",
    "# chem_plot.axes.coastlines()"
   ]
  },
  {
   "cell_type": "code",
   "execution_count": null,
   "metadata": {},
   "outputs": [],
   "source": [
    "# import cartopy.crs as ccrs\n",
    "\n",
    "# p = met.data[\"air_temperature\"].isel(level=0, time=0).plot(\n",
    "#     subplot_kws=dict(projection=ccrs.Orthographic(20, 10), facecolor=\"gray\"),\n",
    "#     transform=ccrs.PlateCarree(),\n",
    "# )\n",
    "\n",
    "# p.axes.set_global()\n",
    "\n",
    "# p.axes.coastlines()\n",
    "\n",
    "# # save figure\n",
    "# p.figure.savefig(str(lon_bounds) + str(lat_bounds) + \".png\")\n",
    "\n",
    "# type(p)"
   ]
  },
  {
   "cell_type": "code",
   "execution_count": null,
   "metadata": {},
   "outputs": [],
   "source": [
    "#chem.data[\"Y\"].sel(species=\"DUMMY2\", time=time[0], level=962).plot()"
   ]
  },
  {
   "cell_type": "code",
   "execution_count": null,
   "metadata": {},
   "outputs": [],
   "source": [
    "boxm = BoxModel(met, chem)"
   ]
  },
  {
   "cell_type": "code",
   "execution_count": null,
   "metadata": {},
   "outputs": [],
   "source": [
    "boxm.met"
   ]
  },
  {
   "cell_type": "code",
   "execution_count": null,
   "metadata": {},
   "outputs": [],
   "source": [
    "boxm.chem"
   ]
  },
  {
   "cell_type": "code",
   "execution_count": null,
   "metadata": {},
   "outputs": [],
   "source": [
    "emi = xr.Dataset(\n",
    "    {\n",
    "        \"EM\": ([\"latitude\", \"longitude\", \"level\", \"time\", \"species\"],\n",
    "                np.zeros((len(lats), len(lons), len(alts), len(chem.data.time), len(chem.data.species)))),\n",
    "    },\n",
    "    coords={\n",
    "        \"latitude\": lats,\n",
    "        \"longitude\": lons, \n",
    "        \"level\": alts,\n",
    "        \"time\": chem.data.time,\n",
    "        \"species\": chem.data.species,\n",
    "    }\n",
    ")"
   ]
  },
  {
   "cell_type": "code",
   "execution_count": null,
   "metadata": {},
   "outputs": [],
   "source": [
    "emi = ChemDataset(emi)\n",
    "emi.data = emi.data.transpose(\"latitude\", \"longitude\", \"level\", \"time\", ...)"
   ]
  },
  {
   "cell_type": "code",
   "execution_count": null,
   "metadata": {},
   "outputs": [],
   "source": [
    "emi"
   ]
  },
  {
   "cell_type": "code",
   "execution_count": null,
   "metadata": {},
   "outputs": [],
   "source": [
    "boxm.params"
   ]
  },
  {
   "cell_type": "code",
   "execution_count": null,
   "metadata": {},
   "outputs": [],
   "source": [
    "boxm.eval(source=emi)"
   ]
  },
  {
   "cell_type": "code",
   "execution_count": null,
   "metadata": {},
   "outputs": [],
   "source": [
    "boxm.chem.data[\"Y\"].sel(species=\"OH\").shape"
   ]
  },
  {
   "cell_type": "code",
   "execution_count": null,
   "metadata": {},
   "outputs": [],
   "source": []
  }
 ],
 "metadata": {
  "kernelspec": {
   "display_name": "traffic",
   "language": "python",
   "name": "python3"
  },
  "language_info": {
   "codemirror_mode": {
    "name": "ipython",
    "version": 3
   },
   "file_extension": ".py",
   "mimetype": "text/x-python",
   "name": "python",
   "nbconvert_exporter": "python",
   "pygments_lexer": "ipython3",
   "version": "3.10.11"
  },
  "orig_nbformat": 4
 },
 "nbformat": 4,
 "nbformat_minor": 2
}
