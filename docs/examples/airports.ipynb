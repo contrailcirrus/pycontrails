{
 "cells": [
  {
   "cell_type": "markdown",
   "id": "f5306527-306c-4b54-b4cc-6a260858df56",
   "metadata": {},
   "source": [
    "# Airports\n",
    "\n",
    "The `pycontrails.core.airports` module provides access to global airport data and helper functions for working with airport data.\n",
    "\n",
    "Airport data is loaded at runtime from [Our Airports](https://ourairports.com/) from a fork of the [ourairports-data repository](https://github.com/davidmegginson/ourairports-data)."
   ]
  },
  {
   "cell_type": "code",
   "execution_count": 1,
   "id": "1e9a7de3-bc00-4e2e-9b42-83f3b257b5e3",
   "metadata": {},
   "outputs": [],
   "source": [
    "from pycontrails.core import airports"
   ]
  },
  {
   "cell_type": "markdown",
   "id": "ef916438-09f8-4f2e-8933-7df646deb714",
   "metadata": {},
   "source": [
    "## Global airport database\n",
    "\n",
    "The `global_airport_database` method downloads and caches airport data."
   ]
  },
  {
   "cell_type": "code",
   "execution_count": 2,
   "id": "cba4cbee-7521-4bde-b063-8aff0e2f5417",
   "metadata": {},
   "outputs": [
    {
     "data": {
      "text/html": [
       "<div>\n",
       "<style scoped>\n",
       "    .dataframe tbody tr th:only-of-type {\n",
       "        vertical-align: middle;\n",
       "    }\n",
       "\n",
       "    .dataframe tbody tr th {\n",
       "        vertical-align: top;\n",
       "    }\n",
       "\n",
       "    .dataframe thead th {\n",
       "        text-align: right;\n",
       "    }\n",
       "</style>\n",
       "<table border=\"1\" class=\"dataframe\">\n",
       "  <thead>\n",
       "    <tr style=\"text-align: right;\">\n",
       "      <th></th>\n",
       "      <th>type</th>\n",
       "      <th>name</th>\n",
       "      <th>latitude</th>\n",
       "      <th>longitude</th>\n",
       "      <th>elevation_ft</th>\n",
       "      <th>iso_country</th>\n",
       "      <th>iso_region</th>\n",
       "      <th>municipality</th>\n",
       "      <th>scheduled_service</th>\n",
       "      <th>icao_code</th>\n",
       "      <th>iata_code</th>\n",
       "      <th>elevation_m</th>\n",
       "    </tr>\n",
       "  </thead>\n",
       "  <tbody>\n",
       "    <tr>\n",
       "      <th>0</th>\n",
       "      <td>small_airport</td>\n",
       "      <td>Rothera Point Airport</td>\n",
       "      <td>-67.566941</td>\n",
       "      <td>-68.126993</td>\n",
       "      <td>0.0</td>\n",
       "      <td>AQ</td>\n",
       "      <td>AQ-U-A</td>\n",
       "      <td>Rothera Point</td>\n",
       "      <td>no</td>\n",
       "      <td>AAXX</td>\n",
       "      <td>NaN</td>\n",
       "      <td>0.0000</td>\n",
       "    </tr>\n",
       "    <tr>\n",
       "      <th>1</th>\n",
       "      <td>small_airport</td>\n",
       "      <td>Angeles City Flying Club</td>\n",
       "      <td>15.254326</td>\n",
       "      <td>120.677772</td>\n",
       "      <td>100.0</td>\n",
       "      <td>PH</td>\n",
       "      <td>PH-U-A</td>\n",
       "      <td>MG</td>\n",
       "      <td>no</td>\n",
       "      <td>ACFC</td>\n",
       "      <td>AFC</td>\n",
       "      <td>30.4800</td>\n",
       "    </tr>\n",
       "    <tr>\n",
       "      <th>2</th>\n",
       "      <td>small_airport</td>\n",
       "      <td>Afutara Aerodrome</td>\n",
       "      <td>-9.191389</td>\n",
       "      <td>160.948611</td>\n",
       "      <td>23.0</td>\n",
       "      <td>SB</td>\n",
       "      <td>SB-ML</td>\n",
       "      <td>Bila</td>\n",
       "      <td>yes</td>\n",
       "      <td>AGAF</td>\n",
       "      <td>AFT</td>\n",
       "      <td>7.0104</td>\n",
       "    </tr>\n",
       "    <tr>\n",
       "      <th>3</th>\n",
       "      <td>small_airport</td>\n",
       "      <td>Ulawa Airport</td>\n",
       "      <td>-9.860544</td>\n",
       "      <td>161.979547</td>\n",
       "      <td>40.0</td>\n",
       "      <td>SB</td>\n",
       "      <td>SB-MK</td>\n",
       "      <td>Arona</td>\n",
       "      <td>no</td>\n",
       "      <td>AGAR</td>\n",
       "      <td>RNA</td>\n",
       "      <td>12.1920</td>\n",
       "    </tr>\n",
       "    <tr>\n",
       "      <th>4</th>\n",
       "      <td>small_airport</td>\n",
       "      <td>Uru Harbour Airport</td>\n",
       "      <td>-8.873330</td>\n",
       "      <td>161.011002</td>\n",
       "      <td>0.0</td>\n",
       "      <td>SB</td>\n",
       "      <td>SB-ML</td>\n",
       "      <td>Atoifi</td>\n",
       "      <td>yes</td>\n",
       "      <td>AGAT</td>\n",
       "      <td>ATD</td>\n",
       "      <td>0.0000</td>\n",
       "    </tr>\n",
       "  </tbody>\n",
       "</table>\n",
       "</div>"
      ],
      "text/plain": [
       "            type                      name   latitude   longitude   \n",
       "0  small_airport     Rothera Point Airport -67.566941  -68.126993  \\\n",
       "1  small_airport  Angeles City Flying Club  15.254326  120.677772   \n",
       "2  small_airport         Afutara Aerodrome  -9.191389  160.948611   \n",
       "3  small_airport             Ulawa Airport  -9.860544  161.979547   \n",
       "4  small_airport       Uru Harbour Airport  -8.873330  161.011002   \n",
       "\n",
       "   elevation_ft iso_country iso_region   municipality scheduled_service   \n",
       "0           0.0          AQ     AQ-U-A  Rothera Point                no  \\\n",
       "1         100.0          PH     PH-U-A             MG                no   \n",
       "2          23.0          SB      SB-ML           Bila               yes   \n",
       "3          40.0          SB      SB-MK          Arona                no   \n",
       "4           0.0          SB      SB-ML         Atoifi               yes   \n",
       "\n",
       "  icao_code iata_code  elevation_m  \n",
       "0      AAXX       NaN       0.0000  \n",
       "1      ACFC       AFC      30.4800  \n",
       "2      AGAF       AFT       7.0104  \n",
       "3      AGAR       RNA      12.1920  \n",
       "4      AGAT       ATD       0.0000  "
      ]
     },
     "execution_count": 2,
     "metadata": {},
     "output_type": "execute_result"
    }
   ],
   "source": [
    "db = airports.global_airport_database()\n",
    "db.head()"
   ]
  },
  {
   "cell_type": "markdown",
   "id": "bb687ead-8730-44a4-b0bf-c76c92100cbb",
   "metadata": {},
   "source": [
    "You can override the cache location by passing in a pycontrails [CacheStore](https://py.contrails.org/api.html#cache) to the `cachestore` argument:"
   ]
  },
  {
   "cell_type": "code",
   "execution_count": 3,
   "id": "d590e371-e385-4920-becc-0d130c0b93bf",
   "metadata": {},
   "outputs": [],
   "source": [
    "from pycontrails import DiskCacheStore"
   ]
  },
  {
   "cell_type": "code",
   "execution_count": 4,
   "id": "7d597179-9ac6-41e9-a1d9-f7884196bd22",
   "metadata": {},
   "outputs": [
    {
     "data": {
      "text/html": [
       "<div>\n",
       "<style scoped>\n",
       "    .dataframe tbody tr th:only-of-type {\n",
       "        vertical-align: middle;\n",
       "    }\n",
       "\n",
       "    .dataframe tbody tr th {\n",
       "        vertical-align: top;\n",
       "    }\n",
       "\n",
       "    .dataframe thead th {\n",
       "        text-align: right;\n",
       "    }\n",
       "</style>\n",
       "<table border=\"1\" class=\"dataframe\">\n",
       "  <thead>\n",
       "    <tr style=\"text-align: right;\">\n",
       "      <th></th>\n",
       "      <th>type</th>\n",
       "      <th>name</th>\n",
       "      <th>latitude</th>\n",
       "      <th>longitude</th>\n",
       "      <th>elevation_ft</th>\n",
       "      <th>iso_country</th>\n",
       "      <th>iso_region</th>\n",
       "      <th>municipality</th>\n",
       "      <th>scheduled_service</th>\n",
       "      <th>icao_code</th>\n",
       "      <th>iata_code</th>\n",
       "      <th>elevation_m</th>\n",
       "    </tr>\n",
       "  </thead>\n",
       "  <tbody>\n",
       "    <tr>\n",
       "      <th>0</th>\n",
       "      <td>small_airport</td>\n",
       "      <td>Rothera Point Airport</td>\n",
       "      <td>-67.566941</td>\n",
       "      <td>-68.126993</td>\n",
       "      <td>0.0</td>\n",
       "      <td>AQ</td>\n",
       "      <td>AQ-U-A</td>\n",
       "      <td>Rothera Point</td>\n",
       "      <td>no</td>\n",
       "      <td>AAXX</td>\n",
       "      <td>NaN</td>\n",
       "      <td>0.0000</td>\n",
       "    </tr>\n",
       "    <tr>\n",
       "      <th>1</th>\n",
       "      <td>small_airport</td>\n",
       "      <td>Angeles City Flying Club</td>\n",
       "      <td>15.254326</td>\n",
       "      <td>120.677772</td>\n",
       "      <td>100.0</td>\n",
       "      <td>PH</td>\n",
       "      <td>PH-U-A</td>\n",
       "      <td>MG</td>\n",
       "      <td>no</td>\n",
       "      <td>ACFC</td>\n",
       "      <td>AFC</td>\n",
       "      <td>30.4800</td>\n",
       "    </tr>\n",
       "    <tr>\n",
       "      <th>2</th>\n",
       "      <td>small_airport</td>\n",
       "      <td>Afutara Aerodrome</td>\n",
       "      <td>-9.191389</td>\n",
       "      <td>160.948611</td>\n",
       "      <td>23.0</td>\n",
       "      <td>SB</td>\n",
       "      <td>SB-ML</td>\n",
       "      <td>Bila</td>\n",
       "      <td>yes</td>\n",
       "      <td>AGAF</td>\n",
       "      <td>AFT</td>\n",
       "      <td>7.0104</td>\n",
       "    </tr>\n",
       "    <tr>\n",
       "      <th>3</th>\n",
       "      <td>small_airport</td>\n",
       "      <td>Ulawa Airport</td>\n",
       "      <td>-9.860544</td>\n",
       "      <td>161.979547</td>\n",
       "      <td>40.0</td>\n",
       "      <td>SB</td>\n",
       "      <td>SB-MK</td>\n",
       "      <td>Arona</td>\n",
       "      <td>no</td>\n",
       "      <td>AGAR</td>\n",
       "      <td>RNA</td>\n",
       "      <td>12.1920</td>\n",
       "    </tr>\n",
       "    <tr>\n",
       "      <th>4</th>\n",
       "      <td>small_airport</td>\n",
       "      <td>Uru Harbour Airport</td>\n",
       "      <td>-8.873330</td>\n",
       "      <td>161.011002</td>\n",
       "      <td>0.0</td>\n",
       "      <td>SB</td>\n",
       "      <td>SB-ML</td>\n",
       "      <td>Atoifi</td>\n",
       "      <td>yes</td>\n",
       "      <td>AGAT</td>\n",
       "      <td>ATD</td>\n",
       "      <td>0.0000</td>\n",
       "    </tr>\n",
       "  </tbody>\n",
       "</table>\n",
       "</div>"
      ],
      "text/plain": [
       "            type                      name   latitude   longitude   \n",
       "0  small_airport     Rothera Point Airport -67.566941  -68.126993  \\\n",
       "1  small_airport  Angeles City Flying Club  15.254326  120.677772   \n",
       "2  small_airport         Afutara Aerodrome  -9.191389  160.948611   \n",
       "3  small_airport             Ulawa Airport  -9.860544  161.979547   \n",
       "4  small_airport       Uru Harbour Airport  -8.873330  161.011002   \n",
       "\n",
       "   elevation_ft iso_country iso_region   municipality scheduled_service   \n",
       "0           0.0          AQ     AQ-U-A  Rothera Point                no  \\\n",
       "1         100.0          PH     PH-U-A             MG                no   \n",
       "2          23.0          SB      SB-ML           Bila               yes   \n",
       "3          40.0          SB      SB-MK          Arona                no   \n",
       "4           0.0          SB      SB-ML         Atoifi               yes   \n",
       "\n",
       "  icao_code iata_code  elevation_m  \n",
       "0      AAXX       NaN       0.0000  \n",
       "1      ACFC       AFC      30.4800  \n",
       "2      AGAF       AFT       7.0104  \n",
       "3      AGAR       RNA      12.1920  \n",
       "4      AGAT       ATD       0.0000  "
      ]
     },
     "execution_count": 4,
     "metadata": {},
     "output_type": "execute_result"
    }
   ],
   "source": [
    "cache = DiskCacheStore(cache_dir=\"airports\")\n",
    "db = airports.global_airport_database(cachestore=cache)\n",
    "db.head()"
   ]
  },
  {
   "cell_type": "markdown",
   "id": "56351b1c-03b7-4876-8cb0-c4848b98a479",
   "metadata": {},
   "source": [
    "You can force an update of the cached airports by passing in `update_cache=True`:"
   ]
  },
  {
   "cell_type": "code",
   "execution_count": 5,
   "id": "4ca1ab6c-d8b3-4df0-b883-46a5cc2fe0b6",
   "metadata": {},
   "outputs": [],
   "source": [
    "# redownloads airport database\n",
    "db = airports.global_airport_database(update_cache=True)"
   ]
  },
  {
   "cell_type": "markdown",
   "id": "74202780-184b-44e7-b6fc-7763468e5506",
   "metadata": {},
   "source": [
    "## Find nearest airport\n",
    "\n",
    "Find the nearest airport to waypoint location"
   ]
  },
  {
   "cell_type": "code",
   "execution_count": 6,
   "id": "a893b9e7-8577-4feb-939f-4a9fea56ad8b",
   "metadata": {},
   "outputs": [
    {
     "data": {
      "text/plain": [
       "'KBOS'"
      ]
     },
     "execution_count": 6,
     "metadata": {},
     "output_type": "execute_result"
    }
   ],
   "source": [
    "# a point in the Massachusetts bay close to BOS\n",
    "longitude = -70.842554\n",
    "latitude = 42.387466\n",
    "altitude = 1000\n",
    "\n",
    "# open the airport database\n",
    "db = airports.global_airport_database()\n",
    "\n",
    "# returns the icao code of the closest airport\n",
    "airports.find_nearest_airport(db, longitude, latitude, altitude)"
   ]
  },
  {
   "cell_type": "markdown",
   "id": "39ed3d7e-8829-4289-a7eb-a57324c0c1f3",
   "metadata": {},
   "source": [
    "The function returns `None` if no airport is found within the default bounding box (2&deg;)"
   ]
  },
  {
   "cell_type": "code",
   "execution_count": 7,
   "id": "8aa654e2-2864-4679-b89f-f8c56a9b7648",
   "metadata": {},
   "outputs": [],
   "source": [
    "# Somewhere in the atlantic\n",
    "longitude = -50\n",
    "latitude = 35\n",
    "altitude = 1000\n",
    "\n",
    "airports.find_nearest_airport(db, longitude, latitude, altitude)"
   ]
  },
  {
   "cell_type": "markdown",
   "id": "7da18969-53eb-4395-bbeb-48ab72142743",
   "metadata": {},
   "source": [
    "Pass in the `bbox` parameter (in units of &deg;) to increase the search distance"
   ]
  },
  {
   "cell_type": "code",
   "execution_count": 8,
   "id": "d9570a46-d18a-421b-9694-c050df9a2dfe",
   "metadata": {},
   "outputs": [
    {
     "data": {
      "text/plain": [
       "'CYYT'"
      ]
     },
     "execution_count": 8,
     "metadata": {},
     "output_type": "execute_result"
    }
   ],
   "source": [
    "airports.find_nearest_airport(db, longitude, latitude, altitude, bbox=20)"
   ]
  },
  {
   "cell_type": "markdown",
   "id": "9cdcf9dc-89db-49c0-969f-0d8c36464144",
   "metadata": {},
   "source": [
    "## Find distance to airports\n",
    "\n",
    "Calculate the haversine distance (in `m`) to all input airports"
   ]
  },
  {
   "cell_type": "code",
   "execution_count": 9,
   "id": "9591d842-866c-4e69-9453-4001c3974184",
   "metadata": {},
   "outputs": [
    {
     "data": {
      "text/plain": [
       "array([ 13616.14944594, 312341.96236736])"
      ]
     },
     "execution_count": 9,
     "metadata": {},
     "output_type": "execute_result"
    }
   ],
   "source": [
    "db = airports.global_airport_database()\n",
    "\n",
    "# select BOS and JFK\n",
    "subset = db[db[\"iata_code\"].isin([\"BOS\", \"JFK\"])]\n",
    "\n",
    "# Find distance to a point in the massachusetts bay close to BOS\n",
    "longitude = -70.842554\n",
    "latitude = 42.387466\n",
    "altitude = 500\n",
    "\n",
    "airports.distance_to_airports(subset, longitude, latitude, altitude)"
   ]
  }
 ],
 "metadata": {
  "language_info": {
   "name": "python"
  }
 },
 "nbformat": 4,
 "nbformat_minor": 5
}
