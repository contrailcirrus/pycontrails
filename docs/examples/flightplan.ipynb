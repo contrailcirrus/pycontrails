{
 "cells": [
  {
   "cell_type": "markdown",
   "id": "cdd68507-0e3a-4700-839d-d5bb2738a3cb",
   "metadata": {},
   "source": [
    "# Flight plan\n",
    "\n",
    "The `pycontrails.core.flightplan` module provides utilities for working with standard flight plan formats.\n",
    "\n",
    "Only ICAO ATC flight plan supported currently.\n",
    "\n",
    "## References\n",
    "\n",
    "- [ICAO Doc 4444 ATM/501 - Procedures for Air Navigation Services](https://applications.icao.int/tools/ATMiKIT/story_content/external_files/story_content/external_files/DOC%204444_PANS%20ATM_en.pdf) (Appendix 2)\n",
    "- [FAA Form 7233-4 - International Flight Plan](https://www.faa.gov/air_traffic/publications/atpubs/fs_html/appendix_a.html)"
   ]
  },
  {
   "cell_type": "code",
   "execution_count": 1,
   "id": "43f5fe88-ac4d-480e-bd5f-4d9cc12fdaf8",
   "metadata": {},
   "outputs": [],
   "source": [
    "from pycontrails.core import flightplan"
   ]
  },
  {
   "cell_type": "code",
   "execution_count": 2,
   "id": "62e68225-c1b6-43f6-9036-70ade798a458",
   "metadata": {},
   "outputs": [],
   "source": [
    "atc_plan = \"\"\"\n",
    "(FPL-GEC8145-IN -B77L/H-SDE2E3FGHIJ3J4J5M1RWXYZ/SB1D1\n",
    "-EGGL1040 -N0474F360 IMVUR1Z IMVUR N63 SAM N19 ADKIK DCT \n",
    "MOPAT DCT  LIMRI/M083F360 DCT 51N020W 47N030W/M083F380 40N040W \n",
    "34N045W  28N050W/M083F400 24N055W 19N060W DCT AMTTO DCT ANU DCT \n",
    "-PBN/A1B1C1D1L1O1S1S2 NAV/RNVD1E2A1 DAT/SVM DOF/140501 REG/DALFA \n",
    "EET/OKAC0037 ORBB0052 LTAA0159 UKFV0308 UKOV0333 LUUU0344 UKLV0406\n",
    "EPWW0427 ESAA0521 EKDK0540 ENOR0557 SEL/DFBH OPR/GEC RVR/200) \n",
    "-E/0740 P/3 R/E S/ J/ A/WHITE BLUE TAIL\n",
    "\"\"\""
   ]
  },
  {
   "cell_type": "code",
   "execution_count": 3,
   "id": "d137e37f-52a9-4219-884d-53763f7b71ae",
   "metadata": {},
   "outputs": [
    {
     "data": {
      "text/plain": [
       "{'callsign': 'GEC8145',\n",
       " 'flight_rules': 'I',\n",
       " 'type_of_flight': 'N',\n",
       " 'type_of_aircraft': 'B77L',\n",
       " 'wake_category': 'H',\n",
       " 'equipment': 'SDE2E3FGHIJ3J4J5M1RWXYZ',\n",
       " 'transponder': 'SB1D1',\n",
       " 'departure_icao': 'EGGL',\n",
       " 'time': '1040',\n",
       " 'speed_type': 'N',\n",
       " 'speed': '0474',\n",
       " 'level_type': 'F',\n",
       " 'level': '360',\n",
       " 'route': 'IMVUR1Z IMVUR N63 SAM N19 ADKIK DCT MOPAT DCT  LIMRI/M083F360 DCT 51N020W 47N030W/M083F380 40N040W 34N045W  28N050W/M083F400 24N055W 19N060W DCT AMTTO DCT ANU DCT',\n",
       " 'other_info': 'E/0740 P/3 R/E S/ J/ A/WHITE BLUE TAIL'}"
      ]
     },
     "execution_count": 3,
     "metadata": {},
     "output_type": "execute_result"
    }
   ],
   "source": [
    "# parse flight plan into a dictionary\n",
    "plan_dict = flightplan.parse_atc_plan(atc_plan)\n",
    "plan_dict"
   ]
  },
  {
   "cell_type": "code",
   "execution_count": 4,
   "id": "83b564f8-af6c-40a7-ab15-3f0bc51a07f6",
   "metadata": {},
   "outputs": [
    {
     "data": {
      "text/plain": [
       "'(FPL-GEC8145-IN\\n-B77L/H-SDE2E3FGHIJ3J4J5M1RWXYZ/SB1D1\\n-EGGL1040\\n-N0474F360 IMVUR1Z IMVUR N63 SAM N19 ADKIK DCT MOPAT DCT  LIMRI/M083F360 DCT 51N020W 47N030W/M083F380 40N040W 34N045W  28N050W/M083F400 24N055W 19N060W DCT AMTTO DCT ANU DCT\\n\\n-E/0740 P/3 R/E S/ J/ A/WHITE BLUE TAIL)'"
      ]
     },
     "execution_count": 4,
     "metadata": {},
     "output_type": "execute_result"
    }
   ],
   "source": [
    "# write flight plan dictionary back to a string\n",
    "flightplan.to_atc_plan(plan_dict)"
   ]
  }
 ],
 "metadata": {
  "kernelspec": {
   "display_name": "Python 3 (ipykernel)",
   "language": "python",
   "name": "python3"
  },
  "language_info": {
   "codemirror_mode": {
    "name": "ipython",
    "version": 3
   },
   "file_extension": ".py",
   "mimetype": "text/x-python",
   "name": "python",
   "nbconvert_exporter": "python",
   "pygments_lexer": "ipython3",
   "version": "3.11.3"
  }
 },
 "nbformat": 4,
 "nbformat_minor": 5
}
